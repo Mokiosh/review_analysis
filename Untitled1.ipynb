{
 "cells": [
  {
   "cell_type": "code",
   "execution_count": 5,
   "metadata": {},
   "outputs": [
    {
     "name": "stdout",
     "output_type": "stream",
     "text": [
      "[Errno 2] No such file or directory: 'motoki/PycharmProjects/motoki_ul/review_analysis'\n",
      "/Users/motoki/PycharmProjects/motoki_ul\n"
     ]
    }
   ],
   "source": [
    "cd PycharmProjects/motoki_ul/review_analysis"
   ]
  },
  {
   "cell_type": "code",
   "execution_count": 27,
   "metadata": {},
   "outputs": [],
   "source": [
    "import pandas as pd\n",
    "\n",
    "input_dir = \"/Users/motoki/PycharmProjects/motoki_ul/review_analysis/input_dir/amazon\"\n",
    "df_a = pd.read_csv(f\"{input_dir}/20230906_review_sum.csv\")\n",
    "df_a.fillna(\"。\")\n",
    "\n",
    "df_b = pd.read_csv(f\"{input_dir}/20230907_review_sum.csv\")\n",
    "df_b.fillna(\"。\")\n",
    "\n",
    "df_c = pd.read_csv(f\"{input_dir}/20230905_review_sum.csv\")\n",
    "df_c.fillna(\"。\")\n",
    "\n",
    "df_d = pd.read_csv(f\"{input_dir}/20230608_review_sum.csv\")\n",
    "df_d.fillna(\"。\")\n",
    "\n",
    "df_e = pd.read_csv(f\"{input_dir}/20220524_review_sum.csv\")\n",
    "df_e.fillna(\"。\")\n",
    "\n",
    "df_f = pd.read_csv(f\"{input_dir}/20210804_review_sum.csv\")\n",
    "df_f.fillna(\"。\")\n",
    "\n",
    "df = pd.concat([df_a, df_b, df_c, df_d, df_e, df_f])\n",
    "\n",
    "df = df.drop_duplicates(subset=['name', 'title', 'comment'])\n",
    "df = df.drop(['Unnamed: 0', 'PNAME', 'Category', 'Flavor', 'DeCaf'], axis=1)\n",
    "\n"
   ]
  },
  {
   "cell_type": "code",
   "execution_count": 29,
   "metadata": {},
   "outputs": [],
   "source": [
    "import datetime\n",
    "\n",
    "now = datetime.datetime.today()\n",
    "today = now.strftime(\"%Y%m%d\")\n",
    "\n",
    "output_dir = \"/Users/motoki/PycharmProjects/motoki_ul/review_analysis/output_dir/amazon\"\n",
    "filename = f\"{today}_review.csv\"\n",
    "df.to_csv(f\"{output_dir}/{filename}\")"
   ]
  },
  {
   "cell_type": "code",
   "execution_count": null,
   "metadata": {},
   "outputs": [],
   "source": []
  }
 ],
 "metadata": {
  "kernelspec": {
   "display_name": "Python 3",
   "language": "python",
   "name": "python3"
  },
  "language_info": {
   "codemirror_mode": {
    "name": "ipython",
    "version": 3
   },
   "file_extension": ".py",
   "mimetype": "text/x-python",
   "name": "python",
   "nbconvert_exporter": "python",
   "pygments_lexer": "ipython3",
   "version": "3.8.5"
  }
 },
 "nbformat": 4,
 "nbformat_minor": 4
}
