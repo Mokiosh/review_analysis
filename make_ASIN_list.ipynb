{
 "cells": [
  {
   "cell_type": "code",
   "execution_count": 1,
   "metadata": {},
   "outputs": [
    {
     "name": "stdout",
     "output_type": "stream",
     "text": [
      "Review_analysis_instagram.ipynb        Untitled1.ipynb\r\n",
      "Review_analysis_instagram_mixed.ipynb  Untitled2.ipynb\r\n",
      "Review_analysis_twitter.ipynb          combining.ipynb\r\n",
      "Review_analysis_twitter_mixed.ipynb    \u001b[34minput_dir\u001b[m\u001b[m/\r\n",
      "Review_analytics_amazon.ipynb          npdict.txt\r\n",
      "Review_analytics_lohaco.ipynb          \u001b[34moutput_dir\u001b[m\u001b[m/\r\n",
      "Untitled.ipynb                         topic.csv\r\n"
     ]
    }
   ],
   "source": [
    "ls"
   ]
  },
  {
   "cell_type": "code",
   "execution_count": 2,
   "metadata": {},
   "outputs": [
    {
     "name": "stdout",
     "output_type": "stream",
     "text": [
      "/Users/motoki/PycharmProjects/motoki_ul\n"
     ]
    }
   ],
   "source": [
    "cd .."
   ]
  },
  {
   "cell_type": "code",
   "execution_count": 3,
   "metadata": {},
   "outputs": [
    {
     "name": "stdout",
     "output_type": "stream",
     "text": [
      "/Users/motoki/PycharmProjects/motoki_ul/az_kwsearch_offline\n"
     ]
    }
   ],
   "source": [
    "cd az_kwsearch_offline"
   ]
  },
  {
   "cell_type": "code",
   "execution_count": 4,
   "metadata": {},
   "outputs": [
    {
     "name": "stdout",
     "output_type": "stream",
     "text": [
      "/Users/motoki/PycharmProjects/motoki_ul/az_kwsearch_offline/output_dir\n"
     ]
    }
   ],
   "source": [
    "cd output_dir"
   ]
  },
  {
   "cell_type": "code",
   "execution_count": 21,
   "metadata": {},
   "outputs": [
    {
     "name": "stdout",
     "output_type": "stream",
     "text": [
      "['B09N1FY2B4', 'B09XD78B7N', 'B0B3MGX1H7', 'B0CB5W64F6', 'B0BCWZCJKB', 'B09DPGC2XZ', 'B09KLJVZXP', 'B0B86WZFYH', 'B0B1WCTJQS', 'B0BTLT4XZP', 'B09VY17GWS', 'B0B2D32HNN', 'B09QFNHRX5', 'B0BPGJ15Z5', 'B0BJPDFYT9', 'B09HC7Z1BK', 'B09VT46B6X', 'B0BKKZ7X2G', 'B0CG1DM9PY', 'B0BMB7LJ4T', 'B0CC823FNX', 'B09XK1Z98P', 'B0B7M2J98R', 'B0BZ4YHK85', 'B0BTD8DK5N', 'B0C6QW9RCY', 'B0C7BY6WJ6', 'B0B93F9VNN', 'B0CCCC9KSC', 'B09MLQSK54', 'B0B87H617R', 'B0BTBLTJ3S', 'B0BZ47GBW7', 'B0BBRD6KBV', 'B0BG11PW2L', 'B0987V9W8P', 'B0C8SP46CZ', 'B0BBM84YZK', 'B0BQ2P1XWH', 'B0CFTYR2V5', 'B09PZQS9W7', 'B09FDGQ8CF', 'B0CCRSP8XN', 'B08HM4YG19', 'B09XVDBT56', 'B0BSV3C7K9', 'B08Z321Y2B', 'B0BYM26BX5', 'B09NSSZM63', 'B0C222SXKG']\n"
     ]
    },
    {
     "data": {
      "text/plain": [
       "0     B09N1FY2B4\n",
       "1     B09XD78B7N\n",
       "2     B0B3MGX1H7\n",
       "3     B0CB5W64F6\n",
       "4     B0BCWZCJKB\n",
       "5     B09DPGC2XZ\n",
       "6     B09KLJVZXP\n",
       "7     B0B86WZFYH\n",
       "8     B0B1WCTJQS\n",
       "9     B0BTLT4XZP\n",
       "10    B09VY17GWS\n",
       "11    B0B2D32HNN\n",
       "12    B09QFNHRX5\n",
       "13    B0BPGJ15Z5\n",
       "14    B0BJPDFYT9\n",
       "15    B09HC7Z1BK\n",
       "16    B09VT46B6X\n",
       "17    B0BKKZ7X2G\n",
       "18    B0CG1DM9PY\n",
       "19    B0BMB7LJ4T\n",
       "20    B0CC823FNX\n",
       "21    B09XK1Z98P\n",
       "22    B0B7M2J98R\n",
       "23    B0BZ4YHK85\n",
       "24    B0BTD8DK5N\n",
       "25    B0C6QW9RCY\n",
       "26    B0C7BY6WJ6\n",
       "27    B0B93F9VNN\n",
       "28    B0CCCC9KSC\n",
       "29    B09MLQSK54\n",
       "30    B0B87H617R\n",
       "31    B0BTBLTJ3S\n",
       "32    B0BZ47GBW7\n",
       "33    B0BBRD6KBV\n",
       "34    B0BG11PW2L\n",
       "35    B0987V9W8P\n",
       "36    B0C8SP46CZ\n",
       "37    B0BBM84YZK\n",
       "38    B0BQ2P1XWH\n",
       "39    B0CFTYR2V5\n",
       "40    B09PZQS9W7\n",
       "41    B09FDGQ8CF\n",
       "42    B0CCRSP8XN\n",
       "43    B08HM4YG19\n",
       "44    B09XVDBT56\n",
       "45    B0BSV3C7K9\n",
       "46    B08Z321Y2B\n",
       "47    B0BYM26BX5\n",
       "48    B09NSSZM63\n",
       "49    B0C222SXKG\n",
       "Name: ASIN, dtype: object"
      ]
     },
     "execution_count": 21,
     "metadata": {},
     "output_type": "execute_result"
    }
   ],
   "source": [
    "import pandas as pd\n",
    "\n",
    "header = [\"day\", \"kw\", \"try\", \"organic\", \"rank\", \"ASIN\", \"name\"]\n",
    "df = pd.read_csv(\"20231101_OG.csv\")\n",
    "\n",
    "df.columns = header\n",
    "df\n",
    "\n",
    "df = df[\"ASIN\"].head(50)\n",
    "df\n",
    "\n",
    "l = []\n",
    "for i in df:\n",
    "    l.append(i)\n",
    "\n",
    "print(l)\n",
    "\n",
    "path = \"/Users/motoki/PycharmProjects/motoki_ul/az_review_scr/input_dir/review_ASIN.csv\"\n",
    "\n",
    "df.to_csv(path, index=False, header=False,) \n",
    "df"
   ]
  },
  {
   "cell_type": "code",
   "execution_count": null,
   "metadata": {},
   "outputs": [],
   "source": []
  }
 ],
 "metadata": {
  "kernelspec": {
   "display_name": "Python 3",
   "language": "python",
   "name": "python3"
  },
  "language_info": {
   "codemirror_mode": {
    "name": "ipython",
    "version": 3
   },
   "file_extension": ".py",
   "mimetype": "text/x-python",
   "name": "python",
   "nbconvert_exporter": "python",
   "pygments_lexer": "ipython3",
   "version": "3.8.5"
  }
 },
 "nbformat": 4,
 "nbformat_minor": 4
}
